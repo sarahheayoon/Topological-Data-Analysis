{
 "cells": [
  {
   "cell_type": "markdown",
   "metadata": {},
   "source": [
    "## Min-Max Algorithm Codes"
   ]
  },
  {
   "cell_type": "code",
   "execution_count": 2,
   "metadata": {},
   "outputs": [],
   "source": [
    "import numpy as np\n",
    "from numpy import matlib\n",
    "import pandas as pd"
   ]
  },
  {
   "cell_type": "markdown",
   "metadata": {},
   "source": [
    "## Define Pairwise Distance Matrix\n",
    "- takes in parameters: d-by-a matrix, d-by-b matrix\n",
    "- returns output: distance matrix between ith column of the first matrix and the jth column of the second matrix"
   ]
  },
  {
   "cell_type": "code",
   "execution_count": 114,
   "metadata": {},
   "outputs": [],
   "source": [
    "# Define the function that calculates the matrix of pairwise distances\n",
    "def find_pairwise_dist(X,Y :np) -> np:\n",
    "    # measure the size of matrix\n",
    "    X_row = len(X)\n",
    "    X_col = len(X[0])\n",
    "    Y_row = len(Y)\n",
    "    Y_col = len(Y[0])\n",
    "    \n",
    "    # check if dimension is consistent for X & Y\n",
    "    if X_row != Y_row:\n",
    "        print(\"Error. Please check the dimensions of the two matrices.\")\n",
    "    else:\n",
    "        # squared norm for each column vector in X & Y\n",
    "        X_norm2 = np.sum(X**2, axis=0)\n",
    "        Y_norm2 = np.sum(Y**2, axis=0)\n",
    "\n",
    "        # calculate distance matrix between ith vector in X and jth vector in Y\n",
    "        X_norm2_b = np.matlib.repmat(X_norm2.reshape(X_col,1), 1, Y_col)\n",
    "        Y_norm2_a = np.matlib.repmat(Y_norm2, X_col, 1)\n",
    "        dist2_XY = X_norm2_b + Y_norm2_a - 2*np.matmul(np.transpose(X), Y)\n",
    "        dist_XY = np.sqrt(np.maximum(0,dist2_XY))\n",
    "        return dist_XY"
   ]
  },
  {
   "cell_type": "markdown",
   "metadata": {},
   "source": [
    "#### Finding next landmark point"
   ]
  },
  {
   "cell_type": "code",
   "execution_count": 8,
   "metadata": {},
   "outputs": [],
   "source": [
    "# a landmark point is selected by the largest distance away from the given seed index vector\n",
    "#testX = np.array([2,1,0,1,1])\n",
    "#testX.argmax() >> selects the index with the greatest number"
   ]
  },
  {
   "cell_type": "code",
   "execution_count": 127,
   "metadata": {},
   "outputs": [],
   "source": [
    "def find_next_landmark(X:np, seed:int) -> int:\n",
    "    seed_vector = X[:,seed].reshape((-1, 1)) # selects the seed index column and turns into a column vector\n",
    "    X_col = len(X[0]) # number of given data points\n",
    "    #A = np.empty(shape=[0, X_col]) #creates an empty distance matrix \n",
    "    \n",
    "    newrow = find_pairwise_dist(seed_vector, X) \n",
    "    newseed = newrow.argmax() #selects the first index for the largest number in the array (if there are repeated largest numbers)\n",
    "    #A = np.vstack([A, newrow])\n",
    "\n",
    "    return newseed, newrow\n",
    "\n",
    "# # for next step,,\n",
    "# def calculate_landmarks(X, n, s):\n",
    "#     newseed = s\n",
    "#     result = []\n",
    "#     for count in range(n):\n",
    "#         (newseed, A) = find_next_landmark(X, newseed)\n",
    "#         print(A, newseed)\n",
    "#     return result\n",
    "\n",
    "# calculate_landmarks(X_matrix, 5, 1)"
   ]
  },
  {
   "cell_type": "markdown",
   "metadata": {},
   "source": [
    "## Define landmark functions:\n",
    "#### INPUT (parameters)\n",
    "- X is a d-by-a matrix with the datapoints\n",
    "- s is the user-given seed index\n",
    "\n",
    "#### OUTPUT (returns)\n",
    "- index of the next landmark, pairwise distance between the next landmark and the rest of the data points\n"
   ]
  },
  {
   "cell_type": "code",
   "execution_count": 152,
   "metadata": {},
   "outputs": [],
   "source": [
    "# parameters: X, seed, n\n",
    "    # X: d-by-a matrix \n",
    "    # seed: index number\n",
    "    # n: number of landmarks requested\n",
    "\n",
    "# returns: L, DL \n",
    "    # L: landmarks (a list of length n)\n",
    "    # DL: distance matrix from landmarks to data (n-by-a matrix)\n",
    "\n",
    "def find_landmarks(X, seed, n):\n",
    "    '''finds landmark points by maxmin algorithm'''\n",
    "    # implicit parameter: number of data points\n",
    "    a = len(X[0])\n",
    "\n",
    "    # create a list of landmark and put seed (our zero-th landmark)\n",
    "    L = [seed]\n",
    "\n",
    "    # store the pairwise distance between the zero-th landmark and the rest of the points\n",
    "    DL = np.zeros((n,a)) \n",
    "    seed_vector = X[:,seed].reshape((-1, 1)) #makes it into a column vector\n",
    "    DLseed = find_pairwise_dist(seed_vector, X)\n",
    "    DL[0,:] = DLseed\n",
    "\n",
    "    # storing row of distances to the closest landmark\n",
    "    DLmin = DLseed.copy()\n",
    "\n",
    "    for count in range(1,n):\n",
    "\n",
    "        # find new landmark and update list\n",
    "        newlandmark = DLmin.argmax()\n",
    "        L.append(newlandmark)\n",
    "\n",
    "        # store the pairwise distance between the new landmark and the rest of the points\n",
    "        newlandmark_vector = X[:,newlandmark].reshape((-1,1))\n",
    "        newlandmarkrow = find_pairwise_dist(newlandmark_vector,X)\n",
    "        DL[count,:] = newlandmarkrow\n",
    "\n",
    "        # update row of distances to the closet landmark\n",
    "        DLmin = np.minimum(DLmin, newlandmarkrow)\n",
    "\n",
    "    return L, DL"
   ]
  },
  {
   "cell_type": "markdown",
   "metadata": {},
   "source": [
    "#### TRIAL RUN"
   ]
  },
  {
   "cell_type": "code",
   "execution_count": 9,
   "metadata": {},
   "outputs": [],
   "source": [
    "X_matrix = np.random.randn(2,150)\n",
    "\n",
    "# INPUT PARAMETERS\n",
    "#X is a d-by-a matrix with the datapoints\n",
    "#n is the number of landmarks requested\n",
    "# s is the seed index 'a single number'  s<len(X[0])"
   ]
  },
  {
   "cell_type": "code",
   "execution_count": 193,
   "metadata": {},
   "outputs": [],
   "source": [
    "(L, DL) = find_landmarks(X_matrix, 10, 30)"
   ]
  },
  {
   "cell_type": "markdown",
   "metadata": {},
   "source": [
    "#### Plotting original data points and landmark points"
   ]
  },
  {
   "cell_type": "code",
   "execution_count": 10,
   "metadata": {},
   "outputs": [
    {
     "ename": "NameError",
     "evalue": "name 'L' is not defined",
     "output_type": "error",
     "traceback": [
      "\u001b[0;31m---------------------------------------------------------------------------\u001b[0m",
      "\u001b[0;31mNameError\u001b[0m                                 Traceback (most recent call last)",
      "\u001b[0;32m<ipython-input-10-be8f05bc1b73>\u001b[0m in \u001b[0;36m<module>\u001b[0;34m\u001b[0m\n\u001b[1;32m      2\u001b[0m \u001b[0;34m\u001b[0m\u001b[0m\n\u001b[1;32m      3\u001b[0m \u001b[0mplt\u001b[0m\u001b[0;34m.\u001b[0m\u001b[0mscatter\u001b[0m\u001b[0;34m(\u001b[0m\u001b[0mX_matrix\u001b[0m\u001b[0;34m[\u001b[0m\u001b[0;36m0\u001b[0m\u001b[0;34m]\u001b[0m\u001b[0;34m,\u001b[0m \u001b[0mX_matrix\u001b[0m\u001b[0;34m[\u001b[0m\u001b[0;36m1\u001b[0m\u001b[0;34m]\u001b[0m\u001b[0;34m)\u001b[0m\u001b[0;34m\u001b[0m\u001b[0;34m\u001b[0m\u001b[0m\n\u001b[0;32m----> 4\u001b[0;31m \u001b[0mplt\u001b[0m\u001b[0;34m.\u001b[0m\u001b[0mscatter\u001b[0m\u001b[0;34m(\u001b[0m\u001b[0mX_matrix\u001b[0m\u001b[0;34m[\u001b[0m\u001b[0;36m0\u001b[0m\u001b[0;34m]\u001b[0m\u001b[0;34m[\u001b[0m\u001b[0mL\u001b[0m\u001b[0;34m]\u001b[0m\u001b[0;34m,\u001b[0m \u001b[0mX_matrix\u001b[0m\u001b[0;34m[\u001b[0m\u001b[0;36m1\u001b[0m\u001b[0;34m]\u001b[0m\u001b[0;34m[\u001b[0m\u001b[0mL\u001b[0m\u001b[0;34m]\u001b[0m\u001b[0;34m)\u001b[0m\u001b[0;34m\u001b[0m\u001b[0;34m\u001b[0m\u001b[0m\n\u001b[0m\u001b[1;32m      5\u001b[0m \u001b[0mplt\u001b[0m\u001b[0;34m.\u001b[0m\u001b[0maxis\u001b[0m\u001b[0;34m(\u001b[0m\u001b[0;34m'equal'\u001b[0m\u001b[0;34m)\u001b[0m\u001b[0;34m\u001b[0m\u001b[0;34m\u001b[0m\u001b[0m\n",
      "\u001b[0;31mNameError\u001b[0m: name 'L' is not defined"
     ]
    },
    {
     "data": {
      "image/png": "[encoded data removed]",
      "text/plain": [
       "<Figure size 432x288 with 1 Axes>"
      ]
     },
     "metadata": {
      "needs_background": "light"
     },
     "output_type": "display_data"
    }
   ],
   "source": [
    "import matplotlib.pyplot as plt\n",
    "\n",
    "plt.scatter(X_matrix[0], X_matrix[1])\n",
    "plt.scatter(X_matrix[0][L], X_matrix[1][L])\n",
    "plt.axis('equal')"
   ]
  },
  {
   "cell_type": "code",
   "execution_count": null,
   "metadata": {},
   "outputs": [],
   "source": [
    "# Input d-by-a matrix, d-by-b matrix\n",
    "X = np.random.randn(5,3)\n",
    "Y = np.random.randn(5,5)\n",
    "\n",
    "#Output a-by-b matrix\n",
    "find_pairwise_dist(X,Y)"
   ]
  },
  {
   "cell_type": "code",
   "execution_count": null,
   "metadata": {},
   "outputs": [],
   "source": [
    "a = 5\n",
    "b = 4\n",
    "d = 3\n",
    "\n",
    "X = np.random.randn(d,a)\n",
    "Y = np.random.randn(d,b)"
   ]
  },
  {
   "cell_type": "code",
   "execution_count": null,
   "metadata": {},
   "outputs": [],
   "source": [
    "print(X)\n",
    "print(Y)\n",
    "# test1 = np.array([3.188, 1.065, 0.773])\n",
    "# test2 = test1**2\n",
    "# np.sqrt(np.sum(test2))"
   ]
  },
  {
   "cell_type": "code",
   "execution_count": null,
   "metadata": {},
   "outputs": [],
   "source": [
    "np.set_printoptions(precision=3)\n",
    "X_norm2 = np.sum(X**2, axis=0)\n",
    "print(X_norm2)\n",
    "\n",
    "Y_norm2 = np.sum(Y**2, axis=0)\n",
    "print(Y_norm2)"
   ]
  },
  {
   "cell_type": "code",
   "execution_count": null,
   "metadata": {},
   "outputs": [],
   "source": [
    "X_norm2_b = np.matlib.repmat(X_norm2.reshape(a,1), 1, b)\n",
    "Y_norm2_a = np.matlib.repmat(Y_norm2, a, 1)\n",
    "\n",
    "print(X_norm2_b)\n",
    "print(Y_norm2_a)"
   ]
  },
  {
   "cell_type": "code",
   "execution_count": null,
   "metadata": {},
   "outputs": [],
   "source": [
    "dist2_XY = X_norm2_b + Y_norm2_a - 2*np.matmul(np.transpose(X), Y)\n",
    "dist_XY = np.sqrt(dist2_XY)\n",
    "dist_XY"
   ]
  },
  {
   "cell_type": "code",
   "execution_count": null,
   "metadata": {},
   "outputs": [],
   "source": [
    "a = 5\n",
    "b = 4\n",
    "d = 3\n",
    "\n",
    "X = np.random.randn(d,a)\n",
    "\n",
    "np.set_printoptions(precision=3)\n",
    "X_norm2 = np.sum(X**2, axis=0)\n",
    "\n",
    "X_norm2_b = np.matlib.repmat(X_norm2.reshape(a,1), 1, b)\n",
    "print(X_norm2)\n",
    "print(X_norm2.reshape(a,1))\n",
    "print(np.transpose(X_norm2))\n"
   ]
  }
 ],
 "metadata": {
  "kernelspec": {
   "display_name": "Python 3.8.8 ('base')",
   "language": "python",
   "name": "python3"
  },
  "language_info": {
   "codemirror_mode": {
    "name": "ipython",
    "version": 3
   },
   "file_extension": ".py",
   "mimetype": "text/x-python",
   "name": "python",
   "nbconvert_exporter": "python",
   "pygments_lexer": "ipython3",
   "version": "3.8.8"
  },
  "orig_nbformat": 4,
  "vscode": {
   "interpreter": {
    "hash": "40d3a090f54c6569ab1632332b64b2c03c39dcf918b08424e98f38b5ae0af88f"
   }
  }
 },
 "nbformat": 4,
 "nbformat_minor": 2
}
