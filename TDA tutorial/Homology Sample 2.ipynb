{
 "cells": [
  {
   "cell_type": "markdown",
   "metadata": {},
   "source": [
    "### Task 1: Create a function that takes these parameters\n",
    "1. Number of circle(s):\n",
    "\n",
    "2. Noise:\n",
    "- evenly spaced\n",
    "- not evenly spaced\n",
    "- extra noise\n",
    "\n",
    "3. placement of the circle(s):\n",
    "- not touching each other\n",
    "- bearly touching each other\n",
    "- venn diagram\n"
   ]
  },
  {
   "cell_type": "code",
   "execution_count": 5,
   "metadata": {},
   "outputs": [
    {
     "name": "stdout",
     "output_type": "stream",
     "text": [
      "          x         y  label\n",
      "0  0.738841  0.304580      1\n",
      "1  0.253213 -0.731332      1\n",
      "2 -0.467067 -0.681436      1\n",
      "3 -1.080149 -0.062266      0\n",
      "4 -1.020130 -0.152262      0\n"
     ]
    }
   ],
   "source": [
    "# # Experimenting \n",
    "# from sklearn.datasets import make_circles\n",
    "# import matplotlib.pyplot as plt\n",
    "# import pandas as pd\n",
    "# import numpy as np\n",
    "\n",
    "# n_samples = 100\n",
    "# noise = 0.05\n",
    "\n",
    "# features, labels = make_circles(n_samples=n_samples, noise=noise)\n",
    "# df = pd.DataFrame(dict(x=features[:,0], y=features[:,1], label=labels))\n",
    "# print(df.head())"
   ]
  },
  {
   "cell_type": "code",
   "execution_count": 6,
   "metadata": {},
   "outputs": [
    {
     "data": {
      "image/png": "[encoded data removed]",
      "text/plain": [
       "<Figure size 504x504 with 1 Axes>"
      ]
     },
     "metadata": {
      "needs_background": "light"
     },
     "output_type": "display_data"
    }
   ],
   "source": [
    "# # Collect the points together by label, either 0 or 1\n",
    "# grouped = df.groupby('label')\n",
    "\n",
    "# colors = {0:'red', 1:'blue'}\n",
    "# fig, ax = plt.subplots(figsize=(7,7))\n",
    "# for key, group in grouped:\n",
    "#     group.plot(ax=ax, kind='scatter', x='x', y='y', marker='.', label=key, color=colors[key])\n",
    "# plt.title('Points')\n",
    "# plt.xlim(-2, 2)\n",
    "# plt.ylim(-2, 2)\n",
    "# plt.grid()\n",
    "# plt.show()"
   ]
  },
  {
   "cell_type": "code",
   "execution_count": 7,
   "metadata": {},
   "outputs": [],
   "source": [
    "# points = df.drop(columns=df.columns[-1])\n",
    "# points_array = points.to_numpy() #change df to np.array to apply TDA functions"
   ]
  },
  {
   "cell_type": "code",
   "execution_count": 1,
   "metadata": {},
   "outputs": [],
   "source": [
    "import numpy as np\n",
    "def sample_sphere(n, dim = 3) :\n",
    "    # uniform sampling of the sphere (works in any dim)\n",
    "    points = np.random.randn(n, dim)\n",
    "    points /= np.linalg.norm(points, axis=1)[:,None] #puts everything into unit sphere >> unifrom distribution of \n",
    "    return points\n",
    "\n",
    "points = sample_sphere(100, dim=2)"
   ]
  },
  {
   "cell_type": "code",
   "execution_count": 2,
   "metadata": {},
   "outputs": [
    {
     "name": "stderr",
     "output_type": "stream",
     "text": [
      "/opt/anaconda3/lib/python3.8/site-packages/scipy/__init__.py:138: UserWarning: A NumPy version >=1.16.5 and <1.23.0 is required for this version of SciPy (detected version 1.23.1)\n",
      "  warnings.warn(f\"A NumPy version >={np_minversion} and <{np_maxversion} is required for this version of \"\n"
     ]
    },
    {
     "name": "stdout",
     "output_type": "stream",
     "text": [
      "Shape of diagrams is (111, 3)\n"
     ]
    }
   ],
   "source": [
    "# Start with Rips filtration: compute Rips PDs (PH0, PH1, PH2) for this point cloud\n",
    "from gtda.homology import VietorisRipsPersistence\n",
    "\n",
    "VR = VietorisRipsPersistence(homology_dimensions=[0, 1, 2])\n",
    "diagrams = VR.fit_transform([points])[0] # take single element from list\n",
    "print('Shape of diagrams is {}'.format(diagrams.shape))"
   ]
  },
  {
   "cell_type": "code",
   "execution_count": 43,
   "metadata": {},
   "outputs": [],
   "source": [
    "def nbpts_PH(diagrams) :\n",
    "    ph0 = len(np.where(np.isclose(diagrams[:,2],0))[0])\n",
    "    ph1 = len(np.where(np.isclose(diagrams[:,2],1))[0])\n",
    "    ph2 = len(np.where(np.isclose(diagrams[:,2],2))[0])\n",
    "    return ph0, ph1, ph2\n",
    "\n",
    "def get_PH_dim(diagrams,dim) :\n",
    "    ph0, ph1, ph2 = nbpts_PH(diagrams)\n",
    "    if dim == 0 :\n",
    "        diag = diagrams[:ph0, :2]\n",
    "    if dim == 1 :\n",
    "        diag = diagrams[ph0:ph0+ph1, :2]\n",
    "    if dim == 2 :\n",
    "        diag = diagrams[ph0 + ph1:, :2]\n",
    "    return diag\n",
    "\n",
    "def get_PH_alldims(diagrams):\n",
    "    ph0, ph1, ph2 = nbpts_PH(diagrams)\n",
    "    PH0 = diagrams[:ph0, :2]\n",
    "    PH1 = diagrams[ph0:ph0+ph1, :2]\n",
    "    PH2 = diagrams[ph0 + ph1:, :2]\n",
    "    return PH0, PH1, PH2"
   ]
  },
  {
   "cell_type": "code",
   "execution_count": 44,
   "metadata": {},
   "outputs": [],
   "source": [
    "ph0, ph1, ph2 = nbpts_PH(diagrams)\n",
    "PH0, PH1, PH2 = get_PH_alldims(diagrams)"
   ]
  },
  {
   "cell_type": "code",
   "execution_count": 45,
   "metadata": {},
   "outputs": [],
   "source": [
    "from gtda.plotting import plot_diagram as plot_diagrams_plotly, plot_point_cloud as plot_points_plotly\n",
    "# Functions to plot persistence diagrams\n",
    "\n",
    "def plot_diagrams(diagrams, style = 'sep', diagonal = False) :\n",
    "    PH_list = list(get_PH_alldims(diagrams))\n",
    "    col_list = ['#E11033','#1A0DAB','#FF7900']# FBB117\n",
    "    \n",
    "    ph2 = len(PH_list[2])\n",
    "    if ph2 != 0 :\n",
    "        list_dims = [0,1,2]\n",
    "        figsize = (10, 3.5)\n",
    "    else :\n",
    "        list_dims = [0,1]\n",
    "        figsize = (6.5,3.5)\n",
    "    \n",
    "    if diagonal == False :\n",
    "        for dim in list_dims :\n",
    "            PHdim = PH_list[dim]\n",
    "            PH_list[dim] = PHdim[ PHdim[:,0] < PHdim[:,1] ]\n",
    "            \n",
    "    if style == 'sep' :\n",
    "        fig, axes = plt.subplots(1,len(list_dims), figsize = figsize)\n",
    "        for dim in list_dims :\n",
    "            ax = axes[dim]\n",
    "            xmin = PH_list[dim][:,0].min()\n",
    "            ymax = PH_list[dim][:,1].max()\n",
    "            ax.plot([xmin, ymax],[xmin, ymax], c = 'k', alpha = .2, zorder = 1)\n",
    "            ax.scatter(PH_list[dim][:,0], PH_list[dim][:,1], c = col_list[dim], s = 5, zorder = 2)\n",
    "            ax.set_aspect('equal')\n",
    "            ax.set_title('PH{}'.format(dim))\n",
    "            ax.set_xlabel('birth')\n",
    "            ax.set_ylabel('death')\n",
    "        fig.tight_layout()\n",
    "        plt.show()\n",
    "        \n",
    "    if style == 'tog' :\n",
    "        fig = plt.figure(figsize = (4.5,4.5))\n",
    "        xmin = min( [ PH_list[dim][:,0].min() for dim in [0,1,2] ] )\n",
    "        ymax = max( [ PH_list[dim][:,1].max() for dim in [0,1,2] ] )\n",
    "        plt.plot([xmin, ymax],[xmin, ymax], c = 'k',alpha = .2, label='_nolegend_')\n",
    "        for dim in list_dims :\n",
    "            plt.scatter(PH_list[dim][:,0], PH_list[dim][:,1], c = col_list[dim], s = 10)\n",
    "        plt.legend(['PH0','PH1','PH2'])\n",
    "        fig.tight_layout()\n",
    "        plt.show()\n",
    "        \n",
    "from matplotlib.lines import Line2D\n",
    "\n",
    "def plot_bars(diagrams, diagonal = False) :\n",
    "    ph0, ph1, ph2 = nbpts_PH(diagrams)\n",
    "    PH_list = list(get_PH_alldims(diagrams))\n",
    "    \n",
    "    if ph2 != 0 :\n",
    "        list_dims = [0,1,2]\n",
    "    else :\n",
    "        list_dims = [0,1]\n",
    "        \n",
    "    if diagonal == False :\n",
    "        for dim in list_dims :\n",
    "            PHdim = PH_list[dim]\n",
    "            PH_list[dim] = PHdim[ PHdim[:,0] < PHdim[:,1] ]\n",
    "    \n",
    "    col_list = ['#E11033','#1A0DAB','#FF7900']# FBB117\n",
    "    lab_list = ['PH0','PH1','PH2']\n",
    "    xmax = max([PH_list[dim][:,1].max() for dim in list_dims ] )\n",
    "    delta_y = .01\n",
    "    big_delta_y = .1\n",
    "    ymax = delta_y*(ph0 + ph1 + ph2) + 2*big_delta_y\n",
    "    \n",
    "    fig = plt.figure(figsize = (8, 5))\n",
    "    y = 0 # increment the position of the bar\n",
    "    for dim in list_dims :\n",
    "        for bar in PH_list[dim] :\n",
    "            birth, death = bar\n",
    "            plt.plot([birth, death],[y, y], c = col_list[dim], linewidth = 1)\n",
    "            y += delta_y\n",
    "        y += big_delta_y\n",
    "    plt.axis('equal')\n",
    "    plt.yticks([])\n",
    "    plt.xlim([-10*delta_y,xmax+10*delta_y])\n",
    "    plt.ylim([-10*delta_y,ymax+10*delta_y])\n",
    "    plt.ylabel('persistence bars')\n",
    "    plt.xlabel('filtration value')\n",
    "    fig.tight_layout()\n",
    "    legend_elements = [ Line2D([0], [0], color=col_list[dim], lw=1, label=lab_list[dim]) for dim in list_dims]\n",
    "    plt.legend(handles=legend_elements)\n",
    "    plt.show()"
   ]
  },
  {
   "cell_type": "code",
   "execution_count": 46,
   "metadata": {},
   "outputs": [
    {
     "data": {
      "image/png": "[encoded data removed]",
      "text/plain": [
       "<Figure size 324x324 with 1 Axes>"
      ]
     },
     "metadata": {
      "needs_background": "light"
     },
     "output_type": "display_data"
    },
    {
     "data": {
      "image/png": "[encoded data removed]",
      "text/plain": [
       "<Figure size 576x360 with 1 Axes>"
      ]
     },
     "metadata": {
      "needs_background": "light"
     },
     "output_type": "display_data"
    },
    {
     "data": {
      "application/vnd.plotly.v1+json": {
       "config": {
        "plotlyServerURL": "https://plot.ly"
       },
       "data": [
        {
         "hoverinfo": "none",
         "line": {
          "color": "black",
          "dash": "dash",
          "width": 1
         },
         "mode": "lines",
         "showlegend": false,
         "type": "scatter",
         "x": [
          -0.035701892375946044,
          1.8207965111732483
         ],
         "y": [
          -0.035701892375946044,
          1.8207965111732483
         ]
        },
        {
         "hoverinfo": "text",
         "hovertext": [
          "(0.0, 0.0004703498852904886)",
          "(0.0, 0.0017427164129912853)",
          "(0.0, 0.0024314813781529665)",
          "(0.0, 0.0034440304152667522)",
          "(0.0, 0.004001334309577942)",
          "(0.0, 0.005358092952519655)",
          "(0.0, 0.005692838225513697)",
          "(0.0, 0.00679403729736805)",
          "(0.0, 0.007345191203057766)",
          "(0.0, 0.0089102853089571)",
          "(0.0, 0.009750892408192158)",
          "(0.0, 0.009893481619656086)",
          "(0.0, 0.01078292727470398)",
          "(0.0, 0.011888152919709682)",
          "(0.0, 0.011952271685004234)",
          "(0.0, 0.012064456008374691)",
          "(0.0, 0.012865990400314331)",
          "(0.0, 0.012896106578409672)",
          "(0.0, 0.01355090644210577)",
          "(0.0, 0.015056276693940163)",
          "(0.0, 0.015637366101145744)",
          "(0.0, 0.017068244516849518)",
          "(0.0, 0.017444808036088943)",
          "(0.0, 0.019202973693609238)",
          "(0.0, 0.020891577005386353)",
          "(0.0, 0.02133222110569477)",
          "(0.0, 0.02200867235660553)",
          "(0.0, 0.023299137130379677)",
          "(0.0, 0.023395569995045662)",
          "(0.0, 0.024551251903176308)",
          "(0.0, 0.025611121207475662)",
          "(0.0, 0.025738900527358055)",
          "(0.0, 0.02692520245909691)",
          "(0.0, 0.029815416783094406)",
          "(0.0, 0.030478885397315025)",
          "(0.0, 0.03529981151223183)",
          "(0.0, 0.03708686679601669)",
          "(0.0, 0.03884085640311241)",
          "(0.0, 0.039060283452272415)",
          "(0.0, 0.03940356895327568)",
          "(0.0, 0.04129604250192642)",
          "(0.0, 0.041365720331668854)",
          "(0.0, 0.0418136827647686)",
          "(0.0, 0.042831677943468094)",
          "(0.0, 0.04349846765398979)",
          "(0.0, 0.04363727942109108)",
          "(0.0, 0.04501690715551376)",
          "(0.0, 0.04525942727923393)",
          "(0.0, 0.045495305210351944)",
          "(0.0, 0.046780798584222794)",
          "(0.0, 0.04799548164010048)",
          "(0.0, 0.04821639135479927)",
          "(0.0, 0.049363911151885986)",
          "(0.0, 0.051999930292367935)",
          "(0.0, 0.05287658050656319)",
          "(0.0, 0.0535772480070591)",
          "(0.0, 0.055048663169145584)",
          "(0.0, 0.056884586811065674)",
          "(0.0, 0.05800876393914223)",
          "(0.0, 0.059949640184640884)",
          "(0.0, 0.06016513705253601)",
          "(0.0, 0.0629095733165741)",
          "(0.0, 0.06783774495124817)",
          "(0.0, 0.06847251951694489)",
          "(0.0, 0.06917937844991684)",
          "(0.0, 0.06936199963092804)",
          "(0.0, 0.06949805468320847)",
          "(0.0, 0.070487380027771)",
          "(0.0, 0.07216569036245346)",
          "(0.0, 0.0761309489607811)",
          "(0.0, 0.07968874275684357)",
          "(0.0, 0.08244023472070694)",
          "(0.0, 0.08369721472263336)",
          "(0.0, 0.08403205126523972)",
          "(0.0, 0.0907665565609932)",
          "(0.0, 0.09155905991792679)",
          "(0.0, 0.09418682754039764)",
          "(0.0, 0.09753196686506271)",
          "(0.0, 0.10300516337156296)",
          "(0.0, 0.10360944271087646)",
          "(0.0, 0.11911454796791077)",
          "(0.0, 0.12282338738441467)",
          "(0.0, 0.12472236901521683)",
          "(0.0, 0.12558776140213013)",
          "(0.0, 0.13025322556495667)",
          "(0.0, 0.13163737952709198)",
          "(0.0, 0.13428865373134613)",
          "(0.0, 0.13753196597099304)",
          "(0.0, 0.13779278099536896)",
          "(0.0, 0.13956905901432037)",
          "(0.0, 0.14290256798267365)",
          "(0.0, 0.14399783313274384)",
          "(0.0, 0.14901459217071533)",
          "(0.0, 0.1542900949716568)",
          "(0.0, 0.15496471524238586)",
          "(0.0, 0.1555936187505722)",
          "(0.0, 0.16878575086593628)",
          "(0.0, 0.19273200631141663)",
          "(0.0, 0.20683489739894867)"
         ],
         "mode": "markers",
         "name": "H0",
         "type": "scatter",
         "x": [
          0,
          0,
          0,
          0,
          0,
          0,
          0,
          0,
          0,
          0,
          0,
          0,
          0,
          0,
          0,
          0,
          0,
          0,
          0,
          0,
          0,
          0,
          0,
          0,
          0,
          0,
          0,
          0,
          0,
          0,
          0,
          0,
          0,
          0,
          0,
          0,
          0,
          0,
          0,
          0,
          0,
          0,
          0,
          0,
          0,
          0,
          0,
          0,
          0,
          0,
          0,
          0,
          0,
          0,
          0,
          0,
          0,
          0,
          0,
          0,
          0,
          0,
          0,
          0,
          0,
          0,
          0,
          0,
          0,
          0,
          0,
          0,
          0,
          0,
          0,
          0,
          0,
          0,
          0,
          0,
          0,
          0,
          0,
          0,
          0,
          0,
          0,
          0,
          0,
          0,
          0,
          0,
          0,
          0,
          0,
          0,
          0,
          0,
          0
         ],
         "y": [
          0.0004703498852904886,
          0.0017427164129912853,
          0.0024314813781529665,
          0.0034440304152667522,
          0.004001334309577942,
          0.005358092952519655,
          0.005692838225513697,
          0.00679403729736805,
          0.007345191203057766,
          0.0089102853089571,
          0.009750892408192158,
          0.009893481619656086,
          0.01078292727470398,
          0.011888152919709682,
          0.011952271685004234,
          0.012064456008374691,
          0.012865990400314331,
          0.012896106578409672,
          0.01355090644210577,
          0.015056276693940163,
          0.015637366101145744,
          0.017068244516849518,
          0.017444808036088943,
          0.019202973693609238,
          0.020891577005386353,
          0.02133222110569477,
          0.02200867235660553,
          0.023299137130379677,
          0.023395569995045662,
          0.024551251903176308,
          0.025611121207475662,
          0.025738900527358055,
          0.02692520245909691,
          0.029815416783094406,
          0.030478885397315025,
          0.03529981151223183,
          0.03708686679601669,
          0.03884085640311241,
          0.039060283452272415,
          0.03940356895327568,
          0.04129604250192642,
          0.041365720331668854,
          0.0418136827647686,
          0.042831677943468094,
          0.04349846765398979,
          0.04363727942109108,
          0.04501690715551376,
          0.04525942727923393,
          0.045495305210351944,
          0.046780798584222794,
          0.04799548164010048,
          0.04821639135479927,
          0.049363911151885986,
          0.051999930292367935,
          0.05287658050656319,
          0.0535772480070591,
          0.055048663169145584,
          0.056884586811065674,
          0.05800876393914223,
          0.059949640184640884,
          0.06016513705253601,
          0.0629095733165741,
          0.06783774495124817,
          0.06847251951694489,
          0.06917937844991684,
          0.06936199963092804,
          0.06949805468320847,
          0.070487380027771,
          0.07216569036245346,
          0.0761309489607811,
          0.07968874275684357,
          0.08244023472070694,
          0.08369721472263336,
          0.08403205126523972,
          0.0907665565609932,
          0.09155905991792679,
          0.09418682754039764,
          0.09753196686506271,
          0.10300516337156296,
          0.10360944271087646,
          0.11911454796791077,
          0.12282338738441467,
          0.12472236901521683,
          0.12558776140213013,
          0.13025322556495667,
          0.13163737952709198,
          0.13428865373134613,
          0.13753196597099304,
          0.13779278099536896,
          0.13956905901432037,
          0.14290256798267365,
          0.14399783313274384,
          0.14901459217071533,
          0.1542900949716568,
          0.15496471524238586,
          0.1555936187505722,
          0.16878575086593628,
          0.19273200631141663,
          0.20683489739894867
         ]
        },
        {
         "hoverinfo": "text",
         "hovertext": [
          "(0.23931431770324707, 1.7343071699142456)"
         ],
         "mode": "markers",
         "name": "H1",
         "type": "scatter",
         "x": [
          0.23931431770324707
         ],
         "y": [
          1.7343071699142456
         ]
        },
        {
         "hoverinfo": "text",
         "hovertext": [
          "(1.7652376890182495, 1.7689447402954102)",
          "(1.7547810077667236, 1.7661300897598267)",
          "(1.7530628442764282, 1.7712233066558838)",
          "(1.7453944683074951, 1.7616466283798218)",
          "(1.7440561056137085, 1.764029860496521)",
          "(1.741127610206604, 1.7770038843154907)",
          "(1.7396844625473022, 1.7633905410766602)",
          "(1.7380186319351196, 1.7850946187973022)",
          "(1.737702488899231, 1.7744660377502441)",
          "(1.736895203590393, 1.7820162773132324)"
         ],
         "mode": "markers",
         "name": "H2",
         "type": "scatter",
         "x": [
          1.7652376890182495,
          1.7547810077667236,
          1.7530628442764282,
          1.7453944683074951,
          1.7440561056137085,
          1.741127610206604,
          1.7396844625473022,
          1.7380186319351196,
          1.737702488899231,
          1.736895203590393
         ],
         "y": [
          1.7689447402954102,
          1.7661300897598267,
          1.7712233066558838,
          1.7616466283798218,
          1.764029860496521,
          1.7770038843154907,
          1.7633905410766602,
          1.7850946187973022,
          1.7744660377502441,
          1.7820162773132324
         ]
        }
       ],
       "layout": {
        "height": 500,
        "plot_bgcolor": "white",
        "template": {
         "data": {
          "bar": [
           {
            "error_x": {
             "color": "#2a3f5f"
            },
            "error_y": {
             "color": "#2a3f5f"
            },
            "marker": {
             "line": {
              "color": "#E5ECF6",
              "width": 0.5
             },
             "pattern": {
              "fillmode": "overlay",
              "size": 10,
              "solidity": 0.2
             }
            },
            "type": "bar"
           }
          ],
          "barpolar": [
           {
            "marker": {
             "line": {
              "color": "#E5ECF6",
              "width": 0.5
             },
             "pattern": {
              "fillmode": "overlay",
              "size": 10,
              "solidity": 0.2
             }
            },
            "type": "barpolar"
           }
          ],
          "carpet": [
           {
            "aaxis": {
             "endlinecolor": "#2a3f5f",
             "gridcolor": "white",
             "linecolor": "white",
             "minorgridcolor": "white",
             "startlinecolor": "#2a3f5f"
            },
            "baxis": {
             "endlinecolor": "#2a3f5f",
             "gridcolor": "white",
             "linecolor": "white",
             "minorgridcolor": "white",
             "startlinecolor": "#2a3f5f"
            },
            "type": "carpet"
           }
          ],
          "choropleth": [
           {
            "colorbar": {
             "outlinewidth": 0,
             "ticks": ""
            },
            "type": "choropleth"
           }
          ],
          "contour": [
           {
            "colorbar": {
             "outlinewidth": 0,
             "ticks": ""
            },
            "colorscale": [
             [
              0,
              "#0d0887"
             ],
             [
              0.1111111111111111,
              "#46039f"
             ],
             [
              0.2222222222222222,
              "#7201a8"
             ],
             [
              0.3333333333333333,
              "#9c179e"
             ],
             [
              0.4444444444444444,
              "#bd3786"
             ],
             [
              0.5555555555555556,
              "#d8576b"
             ],
             [
              0.6666666666666666,
              "#ed7953"
             ],
             [
              0.7777777777777778,
              "#fb9f3a"
             ],
             [
              0.8888888888888888,
              "#fdca26"
             ],
             [
              1,
              "#f0f921"
             ]
            ],
            "type": "contour"
           }
          ],
          "contourcarpet": [
           {
            "colorbar": {
             "outlinewidth": 0,
             "ticks": ""
            },
            "type": "contourcarpet"
           }
          ],
          "heatmap": [
           {
            "colorbar": {
             "outlinewidth": 0,
             "ticks": ""
            },
            "colorscale": [
             [
              0,
              "#0d0887"
             ],
             [
              0.1111111111111111,
              "#46039f"
             ],
             [
              0.2222222222222222,
              "#7201a8"
             ],
             [
              0.3333333333333333,
              "#9c179e"
             ],
             [
              0.4444444444444444,
              "#bd3786"
             ],
             [
              0.5555555555555556,
              "#d8576b"
             ],
             [
              0.6666666666666666,
              "#ed7953"
             ],
             [
              0.7777777777777778,
              "#fb9f3a"
             ],
             [
              0.8888888888888888,
              "#fdca26"
             ],
             [
              1,
              "#f0f921"
             ]
            ],
            "type": "heatmap"
           }
          ],
          "heatmapgl": [
           {
            "colorbar": {
             "outlinewidth": 0,
             "ticks": ""
            },
            "colorscale": [
             [
              0,
              "#0d0887"
             ],
             [
              0.1111111111111111,
              "#46039f"
             ],
             [
              0.2222222222222222,
              "#7201a8"
             ],
             [
              0.3333333333333333,
              "#9c179e"
             ],
             [
              0.4444444444444444,
              "#bd3786"
             ],
             [
              0.5555555555555556,
              "#d8576b"
             ],
             [
              0.6666666666666666,
              "#ed7953"
             ],
             [
              0.7777777777777778,
              "#fb9f3a"
             ],
             [
              0.8888888888888888,
              "#fdca26"
             ],
             [
              1,
              "#f0f921"
             ]
            ],
            "type": "heatmapgl"
           }
          ],
          "histogram": [
           {
            "marker": {
             "pattern": {
              "fillmode": "overlay",
              "size": 10,
              "solidity": 0.2
             }
            },
            "type": "histogram"
           }
          ],
          "histogram2d": [
           {
            "colorbar": {
             "outlinewidth": 0,
             "ticks": ""
            },
            "colorscale": [
             [
              0,
              "#0d0887"
             ],
             [
              0.1111111111111111,
              "#46039f"
             ],
             [
              0.2222222222222222,
              "#7201a8"
             ],
             [
              0.3333333333333333,
              "#9c179e"
             ],
             [
              0.4444444444444444,
              "#bd3786"
             ],
             [
              0.5555555555555556,
              "#d8576b"
             ],
             [
              0.6666666666666666,
              "#ed7953"
             ],
             [
              0.7777777777777778,
              "#fb9f3a"
             ],
             [
              0.8888888888888888,
              "#fdca26"
             ],
             [
              1,
              "#f0f921"
             ]
            ],
            "type": "histogram2d"
           }
          ],
          "histogram2dcontour": [
           {
            "colorbar": {
             "outlinewidth": 0,
             "ticks": ""
            },
            "colorscale": [
             [
              0,
              "#0d0887"
             ],
             [
              0.1111111111111111,
              "#46039f"
             ],
             [
              0.2222222222222222,
              "#7201a8"
             ],
             [
              0.3333333333333333,
              "#9c179e"
             ],
             [
              0.4444444444444444,
              "#bd3786"
             ],
             [
              0.5555555555555556,
              "#d8576b"
             ],
             [
              0.6666666666666666,
              "#ed7953"
             ],
             [
              0.7777777777777778,
              "#fb9f3a"
             ],
             [
              0.8888888888888888,
              "#fdca26"
             ],
             [
              1,
              "#f0f921"
             ]
            ],
            "type": "histogram2dcontour"
           }
          ],
          "mesh3d": [
           {
            "colorbar": {
             "outlinewidth": 0,
             "ticks": ""
            },
            "type": "mesh3d"
           }
          ],
          "parcoords": [
           {
            "line": {
             "colorbar": {
              "outlinewidth": 0,
              "ticks": ""
             }
            },
            "type": "parcoords"
           }
          ],
          "pie": [
           {
            "automargin": true,
            "type": "pie"
           }
          ],
          "scatter": [
           {
            "fillpattern": {
             "fillmode": "overlay",
             "size": 10,
             "solidity": 0.2
            },
            "type": "scatter"
           }
          ],
          "scatter3d": [
           {
            "line": {
             "colorbar": {
              "outlinewidth": 0,
              "ticks": ""
             }
            },
            "marker": {
             "colorbar": {
              "outlinewidth": 0,
              "ticks": ""
             }
            },
            "type": "scatter3d"
           }
          ],
          "scattercarpet": [
           {
            "marker": {
             "colorbar": {
              "outlinewidth": 0,
              "ticks": ""
             }
            },
            "type": "scattercarpet"
           }
          ],
          "scattergeo": [
           {
            "marker": {
             "colorbar": {
              "outlinewidth": 0,
              "ticks": ""
             }
            },
            "type": "scattergeo"
           }
          ],
          "scattergl": [
           {
            "marker": {
             "colorbar": {
              "outlinewidth": 0,
              "ticks": ""
             }
            },
            "type": "scattergl"
           }
          ],
          "scattermapbox": [
           {
            "marker": {
             "colorbar": {
              "outlinewidth": 0,
              "ticks": ""
             }
            },
            "type": "scattermapbox"
           }
          ],
          "scatterpolar": [
           {
            "marker": {
             "colorbar": {
              "outlinewidth": 0,
              "ticks": ""
             }
            },
            "type": "scatterpolar"
           }
          ],
          "scatterpolargl": [
           {
            "marker": {
             "colorbar": {
              "outlinewidth": 0,
              "ticks": ""
             }
            },
            "type": "scatterpolargl"
           }
          ],
          "scatterternary": [
           {
            "marker": {
             "colorbar": {
              "outlinewidth": 0,
              "ticks": ""
             }
            },
            "type": "scatterternary"
           }
          ],
          "surface": [
           {
            "colorbar": {
             "outlinewidth": 0,
             "ticks": ""
            },
            "colorscale": [
             [
              0,
              "#0d0887"
             ],
             [
              0.1111111111111111,
              "#46039f"
             ],
             [
              0.2222222222222222,
              "#7201a8"
             ],
             [
              0.3333333333333333,
              "#9c179e"
             ],
             [
              0.4444444444444444,
              "#bd3786"
             ],
             [
              0.5555555555555556,
              "#d8576b"
             ],
             [
              0.6666666666666666,
              "#ed7953"
             ],
             [
              0.7777777777777778,
              "#fb9f3a"
             ],
             [
              0.8888888888888888,
              "#fdca26"
             ],
             [
              1,
              "#f0f921"
             ]
            ],
            "type": "surface"
           }
          ],
          "table": [
           {
            "cells": {
             "fill": {
              "color": "#EBF0F8"
             },
             "line": {
              "color": "white"
             }
            },
            "header": {
             "fill": {
              "color": "#C8D4E3"
             },
             "line": {
              "color": "white"
             }
            },
            "type": "table"
           }
          ]
         },
         "layout": {
          "annotationdefaults": {
           "arrowcolor": "#2a3f5f",
           "arrowhead": 0,
           "arrowwidth": 1
          },
          "autotypenumbers": "strict",
          "coloraxis": {
           "colorbar": {
            "outlinewidth": 0,
            "ticks": ""
           }
          },
          "colorscale": {
           "diverging": [
            [
             0,
             "#8e0152"
            ],
            [
             0.1,
             "#c51b7d"
            ],
            [
             0.2,
             "#de77ae"
            ],
            [
             0.3,
             "#f1b6da"
            ],
            [
             0.4,
             "#fde0ef"
            ],
            [
             0.5,
             "#f7f7f7"
            ],
            [
             0.6,
             "#e6f5d0"
            ],
            [
             0.7,
             "#b8e186"
            ],
            [
             0.8,
             "#7fbc41"
            ],
            [
             0.9,
             "#4d9221"
            ],
            [
             1,
             "#276419"
            ]
           ],
           "sequential": [
            [
             0,
             "#0d0887"
            ],
            [
             0.1111111111111111,
             "#46039f"
            ],
            [
             0.2222222222222222,
             "#7201a8"
            ],
            [
             0.3333333333333333,
             "#9c179e"
            ],
            [
             0.4444444444444444,
             "#bd3786"
            ],
            [
             0.5555555555555556,
             "#d8576b"
            ],
            [
             0.6666666666666666,
             "#ed7953"
            ],
            [
             0.7777777777777778,
             "#fb9f3a"
            ],
            [
             0.8888888888888888,
             "#fdca26"
            ],
            [
             1,
             "#f0f921"
            ]
           ],
           "sequentialminus": [
            [
             0,
             "#0d0887"
            ],
            [
             0.1111111111111111,
             "#46039f"
            ],
            [
             0.2222222222222222,
             "#7201a8"
            ],
            [
             0.3333333333333333,
             "#9c179e"
            ],
            [
             0.4444444444444444,
             "#bd3786"
            ],
            [
             0.5555555555555556,
             "#d8576b"
            ],
            [
             0.6666666666666666,
             "#ed7953"
            ],
            [
             0.7777777777777778,
             "#fb9f3a"
            ],
            [
             0.8888888888888888,
             "#fdca26"
            ],
            [
             1,
             "#f0f921"
            ]
           ]
          },
          "colorway": [
           "#636efa",
           "#EF553B",
           "#00cc96",
           "#ab63fa",
           "#FFA15A",
           "#19d3f3",
           "#FF6692",
           "#B6E880",
           "#FF97FF",
           "#FECB52"
          ],
          "font": {
           "color": "#2a3f5f"
          },
          "geo": {
           "bgcolor": "white",
           "lakecolor": "white",
           "landcolor": "#E5ECF6",
           "showlakes": true,
           "showland": true,
           "subunitcolor": "white"
          },
          "hoverlabel": {
           "align": "left"
          },
          "hovermode": "closest",
          "mapbox": {
           "style": "light"
          },
          "paper_bgcolor": "white",
          "plot_bgcolor": "#E5ECF6",
          "polar": {
           "angularaxis": {
            "gridcolor": "white",
            "linecolor": "white",
            "ticks": ""
           },
           "bgcolor": "#E5ECF6",
           "radialaxis": {
            "gridcolor": "white",
            "linecolor": "white",
            "ticks": ""
           }
          },
          "scene": {
           "xaxis": {
            "backgroundcolor": "#E5ECF6",
            "gridcolor": "white",
            "gridwidth": 2,
            "linecolor": "white",
            "showbackground": true,
            "ticks": "",
            "zerolinecolor": "white"
           },
           "yaxis": {
            "backgroundcolor": "#E5ECF6",
            "gridcolor": "white",
            "gridwidth": 2,
            "linecolor": "white",
            "showbackground": true,
            "ticks": "",
            "zerolinecolor": "white"
           },
           "zaxis": {
            "backgroundcolor": "#E5ECF6",
            "gridcolor": "white",
            "gridwidth": 2,
            "linecolor": "white",
            "showbackground": true,
            "ticks": "",
            "zerolinecolor": "white"
           }
          },
          "shapedefaults": {
           "line": {
            "color": "#2a3f5f"
           }
          },
          "ternary": {
           "aaxis": {
            "gridcolor": "white",
            "linecolor": "white",
            "ticks": ""
           },
           "baxis": {
            "gridcolor": "white",
            "linecolor": "white",
            "ticks": ""
           },
           "bgcolor": "#E5ECF6",
           "caxis": {
            "gridcolor": "white",
            "linecolor": "white",
            "ticks": ""
           }
          },
          "title": {
           "x": 0.05
          },
          "xaxis": {
           "automargin": true,
           "gridcolor": "white",
           "linecolor": "white",
           "ticks": "",
           "title": {
            "standoff": 15
           },
           "zerolinecolor": "white",
           "zerolinewidth": 2
          },
          "yaxis": {
           "automargin": true,
           "gridcolor": "white",
           "linecolor": "white",
           "ticks": "",
           "title": {
            "standoff": 15
           },
           "zerolinecolor": "white",
           "zerolinewidth": 2
          }
         }
        },
        "width": 500,
        "xaxis": {
         "autorange": false,
         "exponentformat": "e",
         "linecolor": "black",
         "linewidth": 1,
         "mirror": false,
         "range": [
          -0.035701892375946044,
          1.8207965111732483
         ],
         "showexponent": "all",
         "showline": true,
         "side": "bottom",
         "ticks": "outside",
         "title": {
          "text": "Birth"
         },
         "type": "linear",
         "zeroline": true
        },
        "yaxis": {
         "autorange": false,
         "exponentformat": "e",
         "linecolor": "black",
         "linewidth": 1,
         "mirror": false,
         "range": [
          -0.035701892375946044,
          1.8207965111732483
         ],
         "scaleanchor": "x",
         "scaleratio": 1,
         "showexponent": "all",
         "showline": true,
         "side": "left",
         "ticks": "outside",
         "title": {
          "text": "Death"
         },
         "type": "linear",
         "zeroline": true
        }
       }
      }
     },
     "metadata": {},
     "output_type": "display_data"
    }
   ],
   "source": [
    "# Plot diagrams: several ways to visualize them\n",
    "\n",
    "# By default, plot_diagrams() and plot_bars() ignore diagonal elements \n",
    "# for which birth = death (unless you specify diagonal = True)\n",
    "\n",
    "# PD as scattered points (birth, death) with death >= birth\n",
    "plot_diagrams(diagrams, style = 'tog') \n",
    "# style = 'tog' to plot 3 homology dimensions together, style = 'sep' to plot separately\n",
    "\n",
    "# PD as persistence bars [ (birth, y) --- (death, y) ]\n",
    "plot_bars(diagrams)\n",
    "\n",
    "# Uncomment to use giotto-tda's default plotting method\n",
    "# based on Plotly which enables interactive 2D and 3D plots\n",
    "# good for small data but REALLY SLOW for large point clouds\n",
    "# and does not allow to interact with several datasets at a time\n",
    "\n",
    "plot_diagrams_plotly(diagrams)"
   ]
  },
  {
   "cell_type": "code",
   "execution_count": 2,
   "metadata": {},
   "outputs": [],
   "source": [
    "import matplotlib.pyplot as plt\n",
    "\n",
    "def plot_points(points) :\n",
    "    if points.shape[1] == 2 :\n",
    "        plt.figure()\n",
    "        plt.scatter(points[:,0], points[:,1], s=5)\n",
    "        plt.axis('equal')\n",
    "        plt.show()\n",
    "    if points.shape[1] == 3 :\n",
    "        ax = plt.axes(projection='3d')\n",
    "        ax.scatter3D(points[:,0], points[:,1], points[:,2], c=points[:,2], cmap='autumn')\n",
    "        ##ax.set_aspect('equal') # does not work\n",
    "        set_axes_equal_3D(ax)\n",
    "        plt.show()"
   ]
  },
  {
   "cell_type": "code",
   "execution_count": 58,
   "metadata": {},
   "outputs": [],
   "source": [
    "import numpy as np\n",
    "def sample_sphere(n, dim = 3) :\n",
    "    # uniform sampling of the sphere (works in any dim)\n",
    "    points = np.random.randn(n, dim)\n",
    "    points /= np.linalg.norm(points, axis=1)[:,None] #puts everything into unit sphere >> unifrom distribution of \n",
    "    return points\n",
    "\n",
    "points = sample_sphere(100, dim=2)"
   ]
  },
  {
   "cell_type": "code",
   "execution_count": 59,
   "metadata": {},
   "outputs": [
    {
     "data": {
      "image/png": "[encoded data removed]",
      "text/plain": [
       "<Figure size 432x288 with 1 Axes>"
      ]
     },
     "metadata": {
      "needs_background": "light"
     },
     "output_type": "display_data"
    }
   ],
   "source": [
    "plot_points(points)"
   ]
  },
  {
   "cell_type": "code",
   "execution_count": 60,
   "metadata": {},
   "outputs": [],
   "source": [
    "VR = VietorisRipsPersistence(homology_dimensions=[0, 1, 2])\n",
    "diagrams = VR.fit_transform([points])[0]\n",
    "ph0, ph1, ph2 = nbpts_PH(diagrams)\n",
    "PH0, PH1, PH2 = get_PH_alldims(diagrams)"
   ]
  },
  {
   "cell_type": "code",
   "execution_count": 61,
   "metadata": {},
   "outputs": [
    {
     "data": {
      "image/png": "[encoded data removed]",
      "text/plain": [
       "<Figure size 324x324 with 1 Axes>"
      ]
     },
     "metadata": {
      "needs_background": "light"
     },
     "output_type": "display_data"
    }
   ],
   "source": [
    "plot_diagrams(diagrams, style = 'tog') "
   ]
  },
  {
   "cell_type": "code",
   "execution_count": 62,
   "metadata": {},
   "outputs": [
    {
     "name": "stdout",
     "output_type": "stream",
     "text": [
      "this is for sample size:20\n"
     ]
    },
    {
     "data": {
      "image/png": "[encoded data removed]",
      "text/plain": [
       "<Figure size 432x288 with 1 Axes>"
      ]
     },
     "metadata": {
      "needs_background": "light"
     },
     "output_type": "display_data"
    },
    {
     "data": {
      "image/png": "[encoded data removed]",
      "text/plain": [
       "<Figure size 324x324 with 1 Axes>"
      ]
     },
     "metadata": {
      "needs_background": "light"
     },
     "output_type": "display_data"
    },
    {
     "name": "stdout",
     "output_type": "stream",
     "text": [
      "this is for sample size:70\n"
     ]
    },
    {
     "data": {
      "image/png": "[encoded data removed]",
      "text/plain": [
       "<Figure size 432x288 with 1 Axes>"
      ]
     },
     "metadata": {
      "needs_background": "light"
     },
     "output_type": "display_data"
    },
    {
     "data": {
      "image/png": "[encoded data removed]",
      "text/plain": [
       "<Figure size 324x324 with 1 Axes>"
      ]
     },
     "metadata": {
      "needs_background": "light"
     },
     "output_type": "display_data"
    },
    {
     "name": "stdout",
     "output_type": "stream",
     "text": [
      "this is for sample size:150\n"
     ]
    },
    {
     "data": {
      "image/png": "[encoded data removed]",
      "text/plain": [
       "<Figure size 432x288 with 1 Axes>"
      ]
     },
     "metadata": {
      "needs_background": "light"
     },
     "output_type": "display_data"
    },
    {
     "data": {
      "image/png": "[encoded data removed]",
      "text/plain": [
       "<Figure size 324x324 with 1 Axes>"
      ]
     },
     "metadata": {
      "needs_background": "light"
     },
     "output_type": "display_data"
    },
    {
     "name": "stdout",
     "output_type": "stream",
     "text": [
      "this is for sample size:500\n"
     ]
    },
    {
     "data": {
      "image/png": "[encoded data removed]",
      "text/plain": [
       "<Figure size 432x288 with 1 Axes>"
      ]
     },
     "metadata": {
      "needs_background": "light"
     },
     "output_type": "display_data"
    },
    {
     "data": {
      "image/png": "[encoded data removed]",
      "text/plain": [
       "<Figure size 324x324 with 1 Axes>"
      ]
     },
     "metadata": {
      "needs_background": "light"
     },
     "output_type": "display_data"
    },
    {
     "name": "stdout",
     "output_type": "stream",
     "text": [
      "this is for sample size:1000\n"
     ]
    },
    {
     "data": {
      "image/png": "[encoded data removed]",
      "text/plain": [
       "<Figure size 432x288 with 1 Axes>"
      ]
     },
     "metadata": {
      "needs_background": "light"
     },
     "output_type": "display_data"
    }
   ],
   "source": [
    "# samples = [20, 70, 150, 500]\n",
    "\n",
    "# for e in samples:\n",
    "#     print(\"this is for sample size:\" + str(e))\n",
    "#     points = sample_sphere(e, dim=2)\n",
    "#     plot_points(points)\n",
    "#     VR = VietorisRipsPersistence(homology_dimensions=[0, 1, 2])\n",
    "#     diagrams = VR.fit_transform([points])[0]\n",
    "#     ph0, ph1, ph2 = nbpts_PH(diagrams)\n",
    "#     PH0, PH1, PH2 = get_PH_alldims(diagrams)\n",
    "#     plot_diagrams(diagrams, style = 'tog') "
   ]
  },
  {
   "cell_type": "code",
   "execution_count": 3,
   "metadata": {},
   "outputs": [],
   "source": [
    "import numpy as np\n",
    "def sample_sphere(n, dim = 3) :\n",
    "    # uniform sampling of the sphere (works in any dim)\n",
    "    points = np.random.randn(n, dim)\n",
    "    points /= np.linalg.norm(points, axis=1)[:,None] #puts everything into unit sphere >> unifrom distribution of \n",
    "    return points\n",
    "\n",
    "points = sample_sphere(100, dim=2)\n"
   ]
  },
  {
   "cell_type": "code",
   "execution_count": 5,
   "metadata": {},
   "outputs": [
    {
     "name": "stdout",
     "output_type": "stream",
     "text": [
      "Shape of points_df is (100, 2)\n"
     ]
    }
   ],
   "source": [
    "#plot_points(points)\n",
    "print('Shape of points_df is {}'.format(points.shape))"
   ]
  },
  {
   "cell_type": "code",
   "execution_count": 57,
   "metadata": {},
   "outputs": [],
   "source": [
    "A = [[1, 0], \n",
    "    [-1, 2]]\n",
    "    #create matrix A (linear transformation)\n",
    "\n",
    "points_A = np.matmul(points,A) "
   ]
  },
  {
   "cell_type": "code",
   "execution_count": 68,
   "metadata": {},
   "outputs": [],
   "source": [
    "translation = [2,5]\n",
    "from numpy import matlib\n",
    "t_matrix = matlib.repmat(translation, 100,1)\n"
   ]
  },
  {
   "cell_type": "code",
   "execution_count": 75,
   "metadata": {},
   "outputs": [],
   "source": [
    "points_B = points + t_matrix"
   ]
  },
  {
   "cell_type": "code",
   "execution_count": 76,
   "metadata": {},
   "outputs": [],
   "source": [
    "new_points = np.concatenate((points_B, points_A), axis=0)"
   ]
  },
  {
   "cell_type": "code",
   "execution_count": 77,
   "metadata": {},
   "outputs": [
    {
     "data": {
      "image/png": "[encoded data removed]",
      "text/plain": [
       "<Figure size 432x288 with 1 Axes>"
      ]
     },
     "metadata": {
      "needs_background": "light"
     },
     "output_type": "display_data"
    }
   ],
   "source": [
    "plot_points(new_points)"
   ]
  },
  {
   "cell_type": "code",
   "execution_count": 78,
   "metadata": {},
   "outputs": [
    {
     "data": {
      "image/png": "[encoded data removed]",
      "text/plain": [
       "<Figure size 324x324 with 1 Axes>"
      ]
     },
     "metadata": {
      "needs_background": "light"
     },
     "output_type": "display_data"
    }
   ],
   "source": [
    "VR = VietorisRipsPersistence(homology_dimensions=[0, 1, 2])\n",
    "diagrams = VR.fit_transform([new_points])[0]\n",
    "ph0, ph1, ph2 = nbpts_PH(diagrams)\n",
    "PH0, PH1, PH2 = get_PH_alldims(diagrams)\n",
    "plot_diagrams(diagrams, style = 'tog') "
   ]
  },
  {
   "cell_type": "code",
   "execution_count": null,
   "metadata": {},
   "outputs": [],
   "source": []
  }
 ],
 "metadata": {
  "kernelspec": {
   "display_name": "Python 3.8.8 ('base')",
   "language": "python",
   "name": "python3"
  },
  "language_info": {
   "codemirror_mode": {
    "name": "ipython",
    "version": 3
   },
   "file_extension": ".py",
   "mimetype": "text/x-python",
   "name": "python",
   "nbconvert_exporter": "python",
   "pygments_lexer": "ipython3",
   "version": "3.8.8"
  },
  "orig_nbformat": 4,
  "vscode": {
   "interpreter": {
    "hash": "40d3a090f54c6569ab1632332b64b2c03c39dcf918b08424e98f38b5ae0af88f"
   }
  }
 },
 "nbformat": 4,
 "nbformat_minor": 2
}
