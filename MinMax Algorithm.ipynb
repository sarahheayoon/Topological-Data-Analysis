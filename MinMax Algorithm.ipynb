{
 "cells": [
  {
   "cell_type": "markdown",
   "metadata": {},
   "source": []
  },
  {
   "cell_type": "code",
   "execution_count": null,
   "metadata": {},
   "outputs": [],
   "source": [
    "# input: one vector in d-dim\n",
    "# create input 'b' vectors in 'd' dimension\n",
    "# function (matmul) -> 1*b matrix"
   ]
  },
  {
   "cell_type": "code",
   "execution_count": 76,
   "metadata": {},
   "outputs": [],
   "source": [
    "import numpy as np\n",
    "from numpy import matlib\n",
    "import pandas as pd"
   ]
  },
  {
   "cell_type": "markdown",
   "metadata": {},
   "source": [
    "#### steps for functions \n",
    "0) input two matrices X and Y \n",
    "1) measure the size of matrix and get a,b,d\n",
    "2) check if d is consistent for X & Y\n",
    "3) calculate the matrix of pairwise distances\n",
    "\n",
    "def find_pairwise_dist(X,Y :np.array) -> np.array:\n",
    "\n",
    "Library named: __"
   ]
  },
  {
   "cell_type": "code",
   "execution_count": 114,
   "metadata": {},
   "outputs": [],
   "source": [
    "# Define the function that calculates the matrix of pairwise distances\n",
    "def find_pairwise_dist(X,Y :np) -> np:\n",
    "    # measure the size of matrix\n",
    "    X_row = len(X)\n",
    "    X_col = len(X[0])\n",
    "    Y_row = len(Y)\n",
    "    Y_col = len(Y[0])\n",
    "    \n",
    "    # check if dimension is consistent for X & Y\n",
    "    if X_row != Y_row:\n",
    "        print(\"Error. Please check the dimensions of the two matrices.\")\n",
    "    else:\n",
    "        # squared norm for each column vector in X & Y\n",
    "        X_norm2 = np.sum(X**2, axis=0)\n",
    "        Y_norm2 = np.sum(Y**2, axis=0)\n",
    "\n",
    "        # calculate distance matrix between ith vector in X and jth vector in Y\n",
    "        X_norm2_b = np.matlib.repmat(X_norm2.reshape(X_col,1), 1, Y_col)\n",
    "        Y_norm2_a = np.matlib.repmat(Y_norm2, X_col, 1)\n",
    "        dist2_XY = X_norm2_b + Y_norm2_a - 2*np.matmul(np.transpose(X), Y)\n",
    "        dist_XY = np.sqrt(np.maximum(0,dist2_XY))\n",
    "        return dist_XY"
   ]
  },
  {
   "cell_type": "code",
   "execution_count": 113,
   "metadata": {},
   "outputs": [
    {
     "data": {
      "text/plain": [
       "array([0.        , 1.        , 1.41421356, 0.        , 0.        ,\n",
       "       1.73205081])"
      ]
     },
     "execution_count": 113,
     "metadata": {},
     "output_type": "execute_result"
    }
   ],
   "source": [
    "testarray = np.array([0,1,2,-1,-2,3])\n",
    "\n",
    "np.sqrt(np.maximum(0,testarray))\n"
   ]
  },
  {
   "cell_type": "code",
   "execution_count": null,
   "metadata": {},
   "outputs": [],
   "source": [
    "from random import randrange\n",
    "print(randrange(2))"
   ]
  },
  {
   "cell_type": "code",
   "execution_count": null,
   "metadata": {},
   "outputs": [],
   "source": [
    "testX = np.array([0,1,1,1,1])\n",
    "print(testX.argmax())\n"
   ]
  },
  {
   "cell_type": "code",
   "execution_count": 127,
   "metadata": {},
   "outputs": [],
   "source": [
    "#INPUT (parameters)\n",
    "#X is a d-by-a matrix with the datapoints\n",
    "#n is the number of landmarks requested\n",
    "# s is the seed index\n",
    "\n",
    "def find_next_landmark(X:np, seed:int) -> int:\n",
    "    seed_vector = X[:,seed].reshape((-1, 1)) #makes it into a column vector\n",
    "    X_col = len(X[0]) #number of given data points\n",
    "    #A = np.empty(shape=[0, X_col]) #creates an empty distance matrix \n",
    "    \n",
    "    newrow = find_pairwise_dist(seed_vector, X) \n",
    "    newseed = newrow.argmax() #selects the first index for the largest number in the array (if there are repeated largest numbers)\n",
    "    #A = np.vstack([A, newrow])\n",
    "\n",
    "    return newseed, newrow\n",
    "    \n",
    "# for i in range(n):\n",
    "#     final_function(X, n, find_landmarks_user_selects_seed(X, n, s))\n",
    "    "
   ]
  },
  {
   "cell_type": "code",
   "execution_count": 79,
   "metadata": {},
   "outputs": [
    {
     "data": {
      "text/plain": [
       "array([[-0.3401869 , -0.49798252,  1.05961367,  0.12912502, -0.3741503 ,\n",
       "         0.6415834 , -1.37992524],\n",
       "       [-1.09935201, -1.85458102,  0.37928732,  0.12448412, -0.08191931,\n",
       "         0.13385967, -1.74888177],\n",
       "       [-1.02825287, -1.26933261,  0.68664877,  0.3091894 , -0.626589  ,\n",
       "        -0.31250694, -0.72894058],\n",
       "       [-0.68709344, -0.47807324,  0.04744856,  0.08560018,  1.90748771,\n",
       "        -0.47605537, -0.53849867],\n",
       "       [ 2.09587217, -0.19200277, -0.62560186,  0.25780402,  0.53984211,\n",
       "         0.69045816,  0.12632711]])"
      ]
     },
     "execution_count": 79,
     "metadata": {},
     "output_type": "execute_result"
    }
   ],
   "source": [
    "X_matrix = np.random.randn(5,7)\n",
    "X_matrix"
   ]
  },
  {
   "cell_type": "code",
   "execution_count": 128,
   "metadata": {},
   "outputs": [],
   "source": [
    "def calculate_landmarks(X, n, s):\n",
    "    newseed = s\n",
    "    result = []\n",
    "    for count in range(n):\n",
    "        (newseed, A) = find_next_landmark(X, newseed)\n",
    "        print(A, newseed)\n",
    "    return result"
   ]
  },
  {
   "cell_type": "code",
   "execution_count": 129,
   "metadata": {},
   "outputs": [
    {
     "name": "stdout",
     "output_type": "stream",
     "text": [
      "[[2.43545703 0.         3.42144971 2.70587292 3.1300609  2.63567137\n",
      "  1.0890381 ]] 2\n",
      "[[3.87719956 3.42144971 0.         1.36200987 2.96833107 1.79982403\n",
      "  3.6596555 ]] 0\n",
      "[[0.         2.43545703 3.87719956 2.73538486 3.21725622 2.2397995\n",
      "  2.34386876]] 2\n",
      "[[3.87719956 3.42144971 0.         1.36200987 2.96833107 1.79982403\n",
      "  3.6596555 ]] 0\n",
      "[[0.         2.43545703 3.87719956 2.73538486 3.21725622 2.2397995\n",
      "  2.34386876]] 2\n"
     ]
    },
    {
     "data": {
      "text/plain": [
       "[]"
      ]
     },
     "execution_count": 129,
     "metadata": {},
     "output_type": "execute_result"
    }
   ],
   "source": [
    "calculate_landmarks(X_matrix, 5, 1)"
   ]
  },
  {
   "cell_type": "code",
   "execution_count": null,
   "metadata": {},
   "outputs": [],
   "source": [
    "#OUTPUT (returns)\n",
    "#L is the list of landmark indices\n",
    "#DL is the n-by-a matrix of landmark-to-fulldata distance#input (parameters)\n",
    "\n",
    "#X is a d-by-a matrix with the datapoints\n",
    "X_matrix = np.random.randn(5,7)\n",
    "#n is the number of landmarks requested\n",
    "n = 3\n",
    "# s is the seed index 'a single number'  s<len(X[0])\n",
    "s = 5\n",
    "#seedvector\n",
    "seed_vector = X_matrix[:,s]\n",
    "newseed = find_next_landmark(X_matrix, s)"
   ]
  },
  {
   "cell_type": "code",
   "execution_count": 152,
   "metadata": {},
   "outputs": [],
   "source": [
    "# parameters: X, seed, n\n",
    "    # X: d-by-a matrix \n",
    "    # seed: index number\n",
    "    # n: number of landmarks requested\n",
    "\n",
    "# returns: L, DL \n",
    "    # L: landmarks (a list of length n)\n",
    "    # DL: distance matrix from landmarks to data (n-by-a matrix)\n",
    "\n",
    "def find_landmarks(X, seed, n):\n",
    "    '''finds landmark points by maxmin algorithm'''\n",
    "    # implicit parameter: number of data points\n",
    "    a = len(X[0])\n",
    "\n",
    "    # create a list of landmark and put seed (our zero-th landmark)\n",
    "    L = [seed]\n",
    "\n",
    "    # store the pairwise distance between the zero-th landmark and the rest of the points\n",
    "    DL = np.zeros((n,a)) \n",
    "    seed_vector = X[:,seed].reshape((-1, 1)) #makes it into a column vector\n",
    "    DLseed = find_pairwise_dist(seed_vector, X)\n",
    "    DL[0,:] = DLseed\n",
    "\n",
    "    # storing row of distances to the closest landmark\n",
    "    DLmin = DLseed.copy()\n",
    "\n",
    "    for count in range(1,n):\n",
    "\n",
    "        # find new landmark and update list\n",
    "        newlandmark = DLmin.argmax()\n",
    "        L.append(newlandmark)\n",
    "\n",
    "        # store the pairwise distance between the new landmark and the rest of the points\n",
    "        newlandmark_vector = X[:,newlandmark].reshape((-1,1))\n",
    "        newlandmarkrow = find_pairwise_dist(newlandmark_vector,X)\n",
    "        DL[count,:] = newlandmarkrow\n",
    "\n",
    "        # update row of distances to the closet landmark\n",
    "        DLmin = np.minimum(DLmin, newlandmarkrow)\n",
    "\n",
    "    return L, DL"
   ]
  },
  {
   "cell_type": "code",
   "execution_count": 192,
   "metadata": {},
   "outputs": [],
   "source": [
    "#TRIAL RUN\n",
    "# INPUT PARAMETERS\n",
    "#X is a d-by-a matrix with the datapoints\n",
    "X_matrix = np.random.randn(2,150)\n",
    "#n is the number of landmarks requested\n",
    "# s is the seed index 'a single number'  s<len(X[0])"
   ]
  },
  {
   "cell_type": "code",
   "execution_count": 193,
   "metadata": {},
   "outputs": [],
   "source": [
    "(L, DL) = find_landmarks(X_matrix, 10, 30)"
   ]
  },
  {
   "cell_type": "code",
   "execution_count": 194,
   "metadata": {},
   "outputs": [
    {
     "data": {
      "text/plain": [
       "(-3.3402421844823196,\n",
       " 2.50010348821253,\n",
       " -2.7796585388536403,\n",
       " 3.1303796396688806)"
      ]
     },
     "execution_count": 194,
     "metadata": {},
     "output_type": "execute_result"
    },
    {
     "data": {
      "image/png": "[encoded data removed]",
      "text/plain": [
       "<Figure size 432x288 with 1 Axes>"
      ]
     },
     "metadata": {
      "needs_background": "light"
     },
     "output_type": "display_data"
    }
   ],
   "source": [
    "import matplotlib.pyplot as plt\n",
    "\n",
    "plt.scatter(X_matrix[0], X_matrix[1])\n",
    "plt.scatter(X_matrix[0][L], X_matrix[1][L])\n",
    "plt.axis('equal')"
   ]
  },
  {
   "cell_type": "code",
   "execution_count": 137,
   "metadata": {},
   "outputs": [
    {
     "name": "stdout",
     "output_type": "stream",
     "text": [
      "[1.  2.  0.  1.  2.5 0. ]\n"
     ]
    }
   ],
   "source": [
    "D_l1 = np.array([2,3,0,1,2.5,8])\n",
    "D_l2 = np.array([1,2,3,4,2.5,0])\n",
    "DLmin = np.minimum(D_l1, D_l2)\n",
    "print(DLmin)\n"
   ]
  },
  {
   "cell_type": "code",
   "execution_count": 148,
   "metadata": {},
   "outputs": [
    {
     "name": "stdout",
     "output_type": "stream",
     "text": [
      "[[1 2 3]\n",
      " [4 5 6]]\n",
      "[[1]\n",
      " [4]]\n"
     ]
    }
   ],
   "source": [
    "x1 = np.array([[1,2,3],[4,5,6]])\n",
    "print(x1)\n",
    "print(x1[:,0].reshape((-1,1)))\n",
    "#print(x1.transpose)"
   ]
  },
  {
   "cell_type": "code",
   "execution_count": null,
   "metadata": {},
   "outputs": [],
   "source": [
    "seed_vector = X[:,s].reshape((-1, 1)) #makes it into a column vector\n",
    "print(seed_vector)"
   ]
  },
  {
   "cell_type": "code",
   "execution_count": null,
   "metadata": {},
   "outputs": [],
   "source": [
    "# finding distance matrix between user_input_vector (seed_vector) and all the points\n",
    "#find_pairwise_dist(seed_vector,X)\n",
    "\n",
    "A = np.empty(shape=[0, 7])\n",
    "newrow = find_pairwise_dist(seed_vector, X) \n",
    "A = np.vstack([A, newrow])\n",
    "A"
   ]
  },
  {
   "cell_type": "code",
   "execution_count": null,
   "metadata": {},
   "outputs": [],
   "source": [
    "newseed = newrow.argmax()\n",
    "seed_vector = X[:,newseed].reshape((-1, 1))\n",
    "print(seed_vector)"
   ]
  },
  {
   "cell_type": "code",
   "execution_count": null,
   "metadata": {},
   "outputs": [],
   "source": [
    "# Input d-by-a matrix, d-by-b matrix\n",
    "X = np.random.randn(5,3)\n",
    "Y = np.random.randn(5,5)\n",
    "\n",
    "#Output a-by-b matrix\n",
    "find_pairwise_dist(X,Y)"
   ]
  },
  {
   "cell_type": "code",
   "execution_count": null,
   "metadata": {},
   "outputs": [],
   "source": [
    "a = 5\n",
    "b = 4\n",
    "d = 3\n",
    "\n",
    "X = np.random.randn(d,a)\n",
    "Y = np.random.randn(d,b)"
   ]
  },
  {
   "cell_type": "code",
   "execution_count": null,
   "metadata": {},
   "outputs": [],
   "source": [
    "print(X)\n",
    "print(Y)\n",
    "# test1 = np.array([3.188, 1.065, 0.773])\n",
    "# test2 = test1**2\n",
    "# np.sqrt(np.sum(test2))"
   ]
  },
  {
   "cell_type": "code",
   "execution_count": null,
   "metadata": {},
   "outputs": [],
   "source": [
    "np.set_printoptions(precision=3)\n",
    "X_norm2 = np.sum(X**2, axis=0)\n",
    "print(X_norm2)\n",
    "\n",
    "Y_norm2 = np.sum(Y**2, axis=0)\n",
    "print(Y_norm2)"
   ]
  },
  {
   "cell_type": "code",
   "execution_count": null,
   "metadata": {},
   "outputs": [],
   "source": [
    "X_norm2_b = np.matlib.repmat(X_norm2.reshape(a,1), 1, b)\n",
    "Y_norm2_a = np.matlib.repmat(Y_norm2, a, 1)\n",
    "\n",
    "print(X_norm2_b)\n",
    "print(Y_norm2_a)"
   ]
  },
  {
   "cell_type": "code",
   "execution_count": null,
   "metadata": {},
   "outputs": [],
   "source": [
    "dist2_XY = X_norm2_b + Y_norm2_a - 2*np.matmul(np.transpose(X), Y)\n",
    "dist_XY = np.sqrt(dist2_XY)\n",
    "dist_XY"
   ]
  },
  {
   "cell_type": "code",
   "execution_count": null,
   "metadata": {},
   "outputs": [],
   "source": [
    "a = 5\n",
    "b = 4\n",
    "d = 3\n",
    "\n",
    "X = np.random.randn(d,a)\n",
    "\n",
    "np.set_printoptions(precision=3)\n",
    "X_norm2 = np.sum(X**2, axis=0)\n",
    "\n",
    "X_norm2_b = np.matlib.repmat(X_norm2.reshape(a,1), 1, b)\n",
    "print(X_norm2)\n",
    "print(X_norm2.reshape(a,1))\n",
    "print(np.transpose(X_norm2))\n"
   ]
  },
  {
   "cell_type": "code",
   "execution_count": null,
   "metadata": {},
   "outputs": [],
   "source": []
  }
 ],
 "metadata": {
  "kernelspec": {
   "display_name": "Python 3.8.8 ('base')",
   "language": "python",
   "name": "python3"
  },
  "language_info": {
   "codemirror_mode": {
    "name": "ipython",
    "version": 3
   },
   "file_extension": ".py",
   "mimetype": "text/x-python",
   "name": "python",
   "nbconvert_exporter": "python",
   "pygments_lexer": "ipython3",
   "version": "3.8.8"
  },
  "orig_nbformat": 4,
  "vscode": {
   "interpreter": {
    "hash": "40d3a090f54c6569ab1632332b64b2c03c39dcf918b08424e98f38b5ae0af88f"
   }
  }
 },
 "nbformat": 4,
 "nbformat_minor": 2
}
