{
 "cells": [
  {
   "cell_type": "code",
   "execution_count": 9,
   "metadata": {},
   "outputs": [
    {
     "ename": "NameError",
     "evalue": "name 'sign' is not defined",
     "output_type": "error",
     "traceback": [
      "\u001b[0;31m---------------------------------------------------------------------------\u001b[0m",
      "\u001b[0;31mNameError\u001b[0m                                 Traceback (most recent call last)",
      "\u001b[0;32m<ipython-input-9-38a455dd9713>\u001b[0m in \u001b[0;36m<module>\u001b[0;34m\u001b[0m\n\u001b[1;32m     25\u001b[0m \u001b[0mx\u001b[0m\u001b[0;34m=\u001b[0m\u001b[0mmath\u001b[0m\u001b[0;34m.\u001b[0m\u001b[0mcos\u001b[0m\u001b[0;34m(\u001b[0m\u001b[0mdot\u001b[0m\u001b[0;34m(\u001b[0m\u001b[0mdot\u001b[0m\u001b[0;34m(\u001b[0m\u001b[0;36m2\u001b[0m\u001b[0;34m,\u001b[0m\u001b[0mmath\u001b[0m\u001b[0;34m.\u001b[0m\u001b[0mpi\u001b[0m\u001b[0;34m)\u001b[0m\u001b[0;34m,\u001b[0m\u001b[0mt\u001b[0m\u001b[0;34m)\u001b[0m\u001b[0;34m)\u001b[0m\u001b[0;34m\u001b[0m\u001b[0;34m\u001b[0m\u001b[0m\n\u001b[1;32m     26\u001b[0m \u001b[0;31m# demo1_for_cc.m:19\u001b[0m\u001b[0;34m\u001b[0m\u001b[0;34m\u001b[0m\u001b[0;34m\u001b[0m\u001b[0m\n\u001b[0;32m---> 27\u001b[0;31m \u001b[0my\u001b[0m\u001b[0;34m=\u001b[0m\u001b[0mmath\u001b[0m\u001b[0;34m.\u001b[0m\u001b[0msin\u001b[0m\u001b[0;34m(\u001b[0m\u001b[0mdot\u001b[0m\u001b[0;34m(\u001b[0m\u001b[0mdot\u001b[0m\u001b[0;34m(\u001b[0m\u001b[0;36m2\u001b[0m\u001b[0;34m,\u001b[0m\u001b[0mmath\u001b[0m\u001b[0;34m.\u001b[0m\u001b[0mpi\u001b[0m\u001b[0;34m)\u001b[0m\u001b[0;34m,\u001b[0m\u001b[0mt\u001b[0m\u001b[0;34m)\u001b[0m\u001b[0;34m)\u001b[0m \u001b[0;34m+\u001b[0m \u001b[0msign\u001b[0m\u001b[0;34m(\u001b[0m\u001b[0mrandn\u001b[0m\u001b[0;34m(\u001b[0m\u001b[0;36m1\u001b[0m\u001b[0;34m,\u001b[0m\u001b[0mN\u001b[0m\u001b[0;34m)\u001b[0m\u001b[0;34m)\u001b[0m\u001b[0;34m\u001b[0m\u001b[0;34m\u001b[0m\u001b[0m\n\u001b[0m\u001b[1;32m     28\u001b[0m \u001b[0;31m# demo1_for_cc.m:20\u001b[0m\u001b[0;34m\u001b[0m\u001b[0;34m\u001b[0m\u001b[0;34m\u001b[0m\u001b[0m\n\u001b[1;32m     29\u001b[0m \u001b[0mX\u001b[0m\u001b[0;34m=\u001b[0m\u001b[0mconcat\u001b[0m\u001b[0;34m(\u001b[0m\u001b[0;34m[\u001b[0m\u001b[0;34m[\u001b[0m\u001b[0mx\u001b[0m\u001b[0;34m]\u001b[0m\u001b[0;34m,\u001b[0m\u001b[0;34m[\u001b[0m\u001b[0my\u001b[0m\u001b[0;34m]\u001b[0m\u001b[0;34m]\u001b[0m\u001b[0;34m)\u001b[0m \u001b[0;34m+\u001b[0m \u001b[0mdot\u001b[0m\u001b[0;34m(\u001b[0m\u001b[0;34m(\u001b[0m\u001b[0;36m0.1\u001b[0m\u001b[0;34m)\u001b[0m\u001b[0;34m,\u001b[0m\u001b[0mrandn\u001b[0m\u001b[0;34m(\u001b[0m\u001b[0;36m2\u001b[0m\u001b[0;34m,\u001b[0m\u001b[0mN\u001b[0m\u001b[0;34m)\u001b[0m\u001b[0;34m)\u001b[0m\u001b[0;34m\u001b[0m\u001b[0;34m\u001b[0m\u001b[0m\n",
      "\u001b[0;31mNameError\u001b[0m: name 'sign' is not defined"
     ]
    }
   ],
   "source": [
    "# Generated with SMOP  0.41\n",
    "from smop.libsmop import *\n",
    "import math\n",
    "import numpy\n",
    "# demo1_for_cc.m\n",
    "\n",
    "    # Demo script 1 for circular coordinates\n",
    "    \n",
    "    # This script carries out the following steps:\n",
    "    \n",
    "    # 1. Creates point-cloud dataset.\n",
    "# 2. Computes the persistence diagram.\n",
    "# 3. Asks the user to select a quadrant in the persistence diagram.\n",
    "# 4. Asks the user to select a point in the quadrant.\n",
    "# 5. Converts the corresponding cocycle to a circle-valued function.\n",
    "# 6. Displays the function using a colour plot.\n",
    "# 7. Repeats, as requested.\n",
    "    \n",
    "    #[VdS 2017-april-26]\n",
    "    \n",
    "    # generate data\n",
    "N=400\n",
    "# demo1_for_cc.m:17\n",
    "t=rand(1,N)\n",
    "# demo1_for_cc.m:18\n",
    "x=math.cos(dot(dot(2,math.pi),t))\n",
    "# demo1_for_cc.m:19\n",
    "y=math.sin(dot(dot(2,math.pi),t)) + sign(randn(1,N))\n",
    "# demo1_for_cc.m:20\n",
    "X=concat([[x],[y]]) + dot((0.1),randn(2,N))\n",
    "# demo1_for_cc.m:22\n",
    "clear('t','x','y')\n",
    "    # set up figure\n",
    "figure(47)\n",
    "clf\n",
    "set(47,'name','keyboard to quit, mouse to continue')\n",
    "Ha=subplot(1,2,2)\n",
    "# demo1_for_cc.m:28\n",
    "    # display data in monochrome\n",
    "subplot(1,2,1)\n",
    "plot(X(1,arange()),X(2,arange()),'k.')\n",
    "axis('equal')\n",
    "title('PCD coordinates 1 & 2')\n",
    "    # select landmarks\n",
    "nL=50\n",
    "# demo1_for_cc.m:38\n",
    "L,DL,RL=px_maxmin(X,'vector',nL,'n',nargout=3)\n",
    "# demo1_for_cc.m:39\n",
    "DLL=DL(arange(),L)\n",
    "# demo1_for_cc.m:40\n",
    "    # construct VR-complex (edges only)\n",
    "R=dot(RL,4)\n",
    "# demo1_for_cc.m:43\n",
    "Edges=cc_edges(DLL,R)\n",
    "# demo1_for_cc.m:44\n",
    "    # persistent cohomology calculation (mod 47)\n",
    "C0,C1,I0,I1=cc_cocycles(Edges,47,nargout=4)\n",
    "# demo1_for_cc.m:47\n",
    "finish=0\n",
    "# demo1_for_cc.m:50\n",
    "while logical_not(finish):\n",
    "        # select one cocycle\n",
    "        #[Rcc, Kcc] = cc_select(I1,1);\n",
    "    Rcc,Kcc=cc_select(I1,1,Ha,nargout=2)\n",
    "# demo1_for_cc.m:56\n",
    "        # calculate circular coordinates on landmarks\n",
    "    ThetaL=cc_theta(Edges,C1,47,Rcc,Kcc)\n",
    "# demo1_for_cc.m:61\n",
    "    ThetaX=cc_interpolate_theta(ThetaL,DL,L)\n",
    "# demo1_for_cc.m:64\n",
    "    figure(47)\n",
    "    subplot(1,2,1)\n",
    "    ncol=64\n",
    "# demo1_for_cc.m:70\n",
    "    hsv_map=hsv(ncol)\n",
    "# demo1_for_cc.m:71\n",
    "    HX=zeros(1,N)\n",
    "# demo1_for_cc.m:72\n",
    "    for b in (arange(1,N)).reshape(-1):\n",
    "        HX[b]=plot(X(1,b),X(2,b),'.')\n",
    "# demo1_for_cc.m:74\n",
    "        set(HX(b),'color',hsv_map(1 + floor(dot(ThetaX(b),ncol)),arange()))\n",
    "        hold('on')\n",
    "    axis('equal')\n",
    "    title('PCD coordinates 1 & 2')\n",
    "    # continue (mouse-click) or exit (keyboard)\n",
    "    finish=copy(waitforbuttonpress)\n",
    "# demo1_for_cc.m:82\n",
    "\n",
    "    "
   ]
  },
  {
   "cell_type": "code",
   "execution_count": null,
   "metadata": {},
   "outputs": [],
   "source": []
  }
 ],
 "metadata": {
  "kernelspec": {
   "display_name": "Python 3.8.8 ('base')",
   "language": "python",
   "name": "python3"
  },
  "language_info": {
   "codemirror_mode": {
    "name": "ipython",
    "version": 3
   },
   "file_extension": ".py",
   "mimetype": "text/x-python",
   "name": "python",
   "nbconvert_exporter": "python",
   "pygments_lexer": "ipython3",
   "version": "3.8.8"
  },
  "orig_nbformat": 4,
  "vscode": {
   "interpreter": {
    "hash": "40d3a090f54c6569ab1632332b64b2c03c39dcf918b08424e98f38b5ae0af88f"
   }
  }
 },
 "nbformat": 4,
 "nbformat_minor": 2
}
